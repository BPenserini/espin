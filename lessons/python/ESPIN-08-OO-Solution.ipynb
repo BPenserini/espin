{
 "cells": [
  {
   "cell_type": "markdown",
   "metadata": {},
   "source": [
    "<a href=\"https://csdms.colorado.edu/wiki/ESPIn2020\"><img style=\"float: center; width: 75%\" src=\"../../media/ESPIn.png\"></a>"
   ]
  },
  {
   "cell_type": "markdown",
   "metadata": {},
   "source": [
    "[![Webinar](../../media/OO.png)](https://youtu.be/dLrahDArm4w)"
   ]
  },
  {
   "cell_type": "markdown",
   "metadata": {},
   "source": [
    "# What is Object Oriented programming\n",
    "\n",
    "- OOP is a way of modeling a programming problem\n",
    "- Concepts: class, object\n",
    "- Terms: attribute (data), methods (behavior)\n",
    "\n",
    "\"A bike\" (class) \n",
    "Bikes have attributes: (brakes, handle bars, wheels\n",
    "Bikes have behaviors : move, steer, brake \n",
    "\n",
    "Objects or instances of the bike class: \n",
    "-\"Mark's 1996 Specialized Stumpjumper FS\" (object)\n",
    "-\"My Bianchi Sprint bikes\" \n",
    "\n",
    "OOP requires some time to write and develop good classes.\n",
    "\n",
    "The following notebook is based on a recent [webinar](https://youtu.be/dLrahDArm4w) we recorded at CSDMS. You can find the [Slideshow](https://github.com/csdms/level-up/blob/master/info/Level-3-Object-oriented-Programming.pdf) and a more elaborate example here [python_corona_simulation](https://github.com/BCampforts/python_corona_simulation),which is forked from [paulvangentcom](https://github.com/paulvangentcom/python_corona_simulation).\n",
    "\n"
   ]
  },
  {
   "cell_type": "markdown",
   "metadata": {},
   "source": [
    "## How to code a class\n",
    "\n",
    "### Define a Virus class\n",
    "\n",
    "1. Properties\n",
    "    - name \n",
    "    - infection_range\n",
    "    - infection_chance\n",
    "    - recovery_duration\n",
    "\n",
    "2. Methods\n",
    "    - documentSelf()\n",
    "\n",
    "###  Create two virus objects (instances of the class Virus) \n",
    " - ebola\n",
    " - sars \n",
    "    "
   ]
  },
  {
   "cell_type": "code",
   "execution_count": null,
   "metadata": {},
   "outputs": [],
   "source": [
    "class Virus: \n",
    "    def __init__(self,name,infection_range=.7,infection_chance=.5):\n",
    "        self.name = name\n",
    "        self.infection_range = infection_range\n",
    "        self.infection_chance = infection_chance\n",
    "    def documentSelf(self):        \n",
    "        print('The name of the virus is: ' + self.name)\n",
    "        print('The infection chance of the virus is: ' + str(self.infection_chance))\n",
    "        "
   ]
  },
  {
   "cell_type": "code",
   "execution_count": null,
   "metadata": {},
   "outputs": [],
   "source": [
    "# Instances\n",
    "# v1 = Virus()\n",
    "# v1.name = 'ebola'\n",
    "# v1.infection_range = 1\n",
    "# v1.infection_chance = 1\n",
    "# v1.documentSelf()\n",
    "\n",
    "# v2 = Virus()\n",
    "# v2.name = 'SARS_COV_2'\n",
    "# v2.infection_range = 1\n",
    "# v2.infection_chance = 1\n",
    "# v2.documentSelf()\n",
    "\n",
    "v1 = Virus('ebola')\n",
    "v1.documentSelf()\n",
    "\n",
    "v2 = Virus('SARS_COV_2',infection_chance=0.2,infection_range=0.3)\n",
    "v2.documentSelf()"
   ]
  },
  {
   "cell_type": "code",
   "execution_count": null,
   "metadata": {},
   "outputs": [],
   "source": [
    "v1.documentSelf()\n",
    "v2.documentSelf()"
   ]
  },
  {
   "cell_type": "code",
   "execution_count": null,
   "metadata": {},
   "outputs": [],
   "source": [
    "v2.documentSelf()"
   ]
  },
  {
   "cell_type": "code",
   "execution_count": null,
   "metadata": {},
   "outputs": [],
   "source": [
    "class LethalVirus(Virus):\n",
    "    \n",
    "    def __init__(self, name,infection_chance,infection_range,recovery_duration,mortality_rate):\n",
    "        self.name = name\n",
    "        self.infection_chance = infection_chance\n",
    "        self.infection_range = infection_range\n",
    "        self.recovery_duration = recovery_duration   \n",
    "        self.mortality_rate = mortality_rate\n",
    "        \n",
    "    def documentMortality(self):\n",
    "        print('The mortality of this virus = ' + str(self.mortality_rate))\n",
    "        \n",
    "    def recover_or_die(self):\n",
    "        pass"
   ]
  },
  {
   "cell_type": "code",
   "execution_count": null,
   "metadata": {},
   "outputs": [],
   "source": [
    "v2 = LethalVirus('SARS_CoV_2',0.3,0.4,20,0.01)"
   ]
  },
  {
   "cell_type": "code",
   "execution_count": null,
   "metadata": {},
   "outputs": [],
   "source": [
    "v2.documentSelf()\n",
    "v2.documentMortality()"
   ]
  },
  {
   "cell_type": "code",
   "execution_count": null,
   "metadata": {},
   "outputs": [],
   "source": [
    "type(v2)"
   ]
  }
 ],
 "metadata": {
  "kernelspec": {
   "display_name": "Python 3",
   "language": "python",
   "name": "python3"
  },
  "language_info": {
   "codemirror_mode": {
    "name": "ipython",
    "version": 3
   },
   "file_extension": ".py",
   "mimetype": "text/x-python",
   "name": "python",
   "nbconvert_exporter": "python",
   "pygments_lexer": "ipython3",
   "version": "3.8.4"
  }
 },
 "nbformat": 4,
 "nbformat_minor": 4
}
