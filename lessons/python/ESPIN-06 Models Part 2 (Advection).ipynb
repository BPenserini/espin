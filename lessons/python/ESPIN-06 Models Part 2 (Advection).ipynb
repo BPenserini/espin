{
 "cells": [
  {
   "cell_type": "markdown",
   "metadata": {},
   "source": [
    "<a href=\"https://csdms.colorado.edu/wiki/ESPIn2020\"><img style=\"float: center; width: 75%\" src=\"../../media/ESPIn.png\"></a>"
   ]
  },
  {
   "cell_type": "markdown",
   "metadata": {},
   "source": [
    "## Advection\n",
    "\n",
    "### Introduction\n",
    "Note: the lecture materials are loosely based on a course on atmospheric modeling by Prof. N. Van Lipzig\n",
    "\n",
    "- **What is advection?** Advection is a transport mechanism of a substance or conserved property by a fluid due to the fluid's bulk motion (Wallace and Hobbs, 2006).\n",
    "\n",
    "- **Examples:**  What can be advected: temperature, moisture, aerosols, ...\n",
    "\n",
    "- **Why discretise?** Because not for all solutions the analytical solution is known, in fact, most of the time it is not known. Especially in the field of earth sciences where sets of simultaneous, nonlinear, partial differential equations has to be solved using known analytical methods. To solve such coupled equations, numerical computational methods are required to discretize and solve the PDE's on a lattice. In this notebook, we will only deal with a finite difference scheme, using the simplest form of a truncated Taylor series expansion. Many alternative methods are available to solve PDE's. Nevertheless, many models in geosciences use finite difference methods, because of their conceptual simplicity and ease of coding."
   ]
  },
  {
   "cell_type": "markdown",
   "metadata": {},
   "source": [
    "### The advection equation###\n",
    "\n",
    "A concepturally very simple PDE is the Advection Equation: \n",
    "\n",
    "$$\\frac{\\partial C}{\\partial t} = -v \\frac{\\partial C}{\\partial x}\n",
    "\\label{eq:1}\\tag{1}$$\n",
    "\n",
    "where $C$ is the aerosol concentration and $v$ is a constant windspeed at which aerosol concentrations are advected. The equation above is a prototype of an **initial value problem**: The solution is obtained by using the known initial values and marching or advancing in time. The solution of this equation can be obtained directly from the initial conditions:\n",
    "\n",
    "$$ C(x,t) = C(x-vt,0) \\label{eq:2}\\tag{2}$$\n",
    "\n",
    "In the following we will discretize Eq. $\\ref{eq:1}$ using a first order, finite difference upwind scheme. The Finite Difference Equation (FDE) of Eq. $\\ref{eq:1}$ can be written as:\n",
    "\n",
    "$$\\frac{\\tilde{C}_j^{n+1} - \\tilde{C}_j^n}{\\Delta t} + c\n",
    "\\frac{\\tilde{C}_j^n - \\tilde{C}_{j-1}^n}{\\Delta x} = 0\n",
    "\\label{eq:3}\\tag{3}$$\n",
    "\n",
    "To obtain this equation, we have taken discrete values for $x$ and $t$: $x_j=j\\Delta x$, $t_n = n \\Delta t$. The solution of the finite difference equation is also defined at the discrete points ($j\\Delta x$,$n \\Delta t$): $\\tilde{T}_j^n=\\tilde{T}(j\\Delta x,n \\Delta t)$. Note that we will use T to denote the solution of the PDE\n",
    "(continuous) and $\\tilde{T}$ to denote the solution of the finite difference equation (FDE), a discrete solution.\n",
    "\n",
    "# TODO insert stencil\n",
    "\n"
   ]
  },
  {
   "attachments": {},
   "cell_type": "markdown",
   "metadata": {},
   "source": [
    "Analytical solution\n",
    "Start from the analytical solution of the advection equation\n",
    "Wind speed = 36 km/h (= 10 m/s)\n",
    "Plot the wave after 5 hours\n",
    "\n",
    "Numerical solution\n",
    "Transform the discrete solution of the advection equation\n",
    "Use a time step of 10 seconds\n",
    "Use a loop to obtain your result (while or for loop?) \n",
    "Plot the wave after 5 hours (try to plot at every time step to see the evolution)\n",
    "\n",
    "# TODO add info\n"
   ]
  },
  {
   "cell_type": "code",
   "execution_count": 1,
   "metadata": {},
   "outputs": [
    {
     "data": {
      "image/png": "[encoded data removed]",
      "text/plain": [
       "<Figure size 432x288 with 1 Axes>"
      ]
     },
     "metadata": {
      "needs_background": "light"
     },
     "output_type": "display_data"
    },
    {
     "data": {
      "image/png": "[encoded data removed]",
      "text/plain": [
       "<Figure size 432x288 with 1 Axes>"
      ]
     },
     "metadata": {
      "needs_background": "light"
     },
     "output_type": "display_data"
    }
   ],
   "source": [
    "# --------------------------------------------------------------------\n",
    "# Script to calculate the temperature anomaly of a discrete, \n",
    "# sine shaped perturbation and visualise the result\n",
    "# --------------------------------------------------------------------\n",
    "                          \n",
    "# --------------------------------------------------------------------\n",
    "# initialisation\n",
    "# --------------------------------------------------------------------\n",
    "import numpy as np\n",
    "from matplotlib import pyplot as plt\n",
    "\n",
    "# initialisation of model constants\n",
    "dx     = 500       # spatial step in m = .5km\n",
    "lam    = 100*dx    # wavelength\n",
    "nr     = 1e3       # size of the domain\n",
    "ampl   = 5         # amplitude (K)\n",
    "\n",
    "\n",
    "# initialisation of variables (including scalars, arrays and matrices)\n",
    "x = np.arange(start= 0, stop = (nr-1)*dx , step = dx)\n",
    "# Logical operations\n",
    "b = x <= lam\n",
    "c = x >  lam\n",
    "# print(c)\n",
    "\n",
    "# --------------------------------------------------------------------\n",
    "# manipulations\n",
    "# --------------------------------------------------------------------\n",
    "# get sine wave\n",
    "y    = np.zeros_like(x)\n",
    "y[b] = ampl*np.sin(x[b]*2*np.pi/lam)\n",
    "y[c] = 0\n",
    "# --------------------------------------------------------------------\n",
    "# Visualisation\n",
    "# --------------------------------------------------------------------\n",
    "# plot the graph\n",
    "plt.figure()\n",
    "plt.plot(x/1.e3, y, '--k') \n",
    "plt.ylim((-6, 6))\n",
    "plt.xlim((0, max(x/1e3)))\n",
    "plt.xlabel('x (km)')\n",
    "plt.ylabel('T (K)')\n",
    "plt.show()\n",
    "\n",
    "# data, parameter values\n",
    "u    = 10 #m/s\n",
    "time = 3600 *10#in sec\n",
    "dt   = 0.9*u/dx\n",
    "\n",
    "# Numerical solution\n",
    "curT = 0\n",
    "\n",
    "T_num = np.zeros_like(y)\n",
    "T_num[:] = y\n",
    "while curT<time:\n",
    "    curT =curT+ dt\n",
    "    if u>0:\n",
    "        T_diff = T_num[1:]-T_num[0:-1]\n",
    "        T_num[1:] = T_num[1:] - u*dt/dx*T_diff\n",
    "        # BC\n",
    "        T_num[0] = T_num[-1]\n",
    "    elif u<0:\n",
    "        T_diff = T_num[1:]-T_num[0:-1]\n",
    "        T_num[0:-1] = T_num[0:-1] - u*dt/dx*T_diff        \n",
    "        # BC\n",
    "        T_num[-1] = T_num[0]       \n",
    "    \n",
    "    if curT%2000==0: \n",
    "        plt.plot(x/1.e3, T_num, 'b') \n",
    "        plt.xlim((0, max(x/1e3)))\n",
    "        plt.xlabel('x (km)')\n",
    "        plt.ylabel('T (K)')\n",
    "        plt.show()\n",
    "\n",
    "plt.figure()\n",
    "plt.plot(x/1.e3, T_num, 'b') \n",
    "plt.xlim((0, max(x/1e3)))\n",
    "plt.xlabel('x (km)')\n",
    "plt.ylabel('T (K)')\n",
    "\n",
    "x_an = x + np.mod(time*u, max(x))\n",
    "plt.plot(x_an/1.E3, y, '-r')\n",
    "plt.show()\n",
    "\n",
    "\n"
   ]
  },
  {
   "cell_type": "markdown",
   "metadata": {},
   "source": [
    "## Practice your skills: Eyjafjallajokull- Part 2\n",
    "\n",
    "Back to the problem of the Eyjafjallajokull volcano. This time we will solve the advection diffusion equation in 1D: \n",
    "\n",
    "$$\\frac{\\partial C}{\\partial t} = -v \\frac{\\partial C}{\\partial x} + D\\frac{\\delta^2 C}{\\delta x^2} \n",
    "\\label{eq:4}\\tag{4}$$\n",
    "\n",
    "Copy past your script form the notebook where you solved the case for pure diffusion. \n",
    "Now adjust the script by adding advection. You can use the code derived in the previous blocks. \n",
    "\n",
    "You only need one additional model parameter: the advection velocity $v$. \n",
    "- Assume an advection velocity of 10 km/h (that is, the wind speed at which ash aerosols are advected towards the continent)\n",
    "- Calculate the time step by combining the CFL criterium for advection (see above) and diffusion \n",
    "- Same question: after how many hours do we get 5 ppm ash aerosols in Brussels?"
   ]
  },
  {
   "cell_type": "code",
   "execution_count": 2,
   "metadata": {},
   "outputs": [
    {
     "name": "stdout",
     "output_type": "stream",
     "text": [
      "dt is: 0.45hours\n"
     ]
    },
    {
     "data": {
      "text/plain": [
       "<Figure size 432x288 with 0 Axes>"
      ]
     },
     "execution_count": 2,
     "metadata": {},
     "output_type": "execute_result"
    },
    {
     "data": {
      "image/png": "[encoded data removed]",
      "text/plain": [
       "<Figure size 432x288 with 1 Axes>"
      ]
     },
     "metadata": {
      "needs_background": "light"
     },
     "output_type": "display_data"
    },
    {
     "data": {
      "text/plain": [
       "<Figure size 432x288 with 0 Axes>"
      ]
     },
     "metadata": {},
     "output_type": "display_data"
    }
   ],
   "source": [
    "#physics\n",
    "D = 25\n",
    "v = 10\n",
    "Lx = 5000\n",
    "time =0\n",
    "\n",
    "#numerical properties\n",
    "dx = 20\n",
    "x = np.arange(start=0, stop=Lx, step=dx)\n",
    "nx =len(x)\n",
    "nt = 10000\n",
    "nout = 1000\n",
    "\n",
    "# Location of volcano and Brussels\n",
    "ind_vol= int(2220/dx)\n",
    "ind_Bru= int(4220/dx)\n",
    "\n",
    "C_ini  = 100\n",
    "C_rate = 100\n",
    "Cstart = 0\n",
    "Cend  = 0\n",
    "C =np.zeros(x.shape)\n",
    "\n",
    "C[0] = Cstart\n",
    "C[ind_vol] = C_ini\n",
    "C[-1] = Cend\n",
    "\n",
    "plt.figure()\n",
    "plt.plot(x,C)\n",
    "plt.scatter(x[ind_Bru],C[ind_Bru],c='r')\n",
    "\n",
    "dt_a = 0.9*v/dx\n",
    "dt_d = dx*dx/D/2.5\n",
    "dt = min(dt_a,dt_d)\n",
    "print('dt is: ' + str(dt) + 'hours')\n",
    "\n",
    "it = 0\n",
    "plt.figure()"
   ]
  },
  {
   "cell_type": "code",
   "execution_count": 3,
   "metadata": {},
   "outputs": [
    {
     "data": {
      "image/png": "[encoded data removed]",
      "text/plain": [
       "<Figure size 432x288 with 1 Axes>"
      ]
     },
     "metadata": {
      "needs_background": "light"
     },
     "output_type": "display_data"
    },
    {
     "data": {
      "image/png": "[encoded data removed]",
      "text/plain": [
       "<Figure size 432x288 with 1 Axes>"
      ]
     },
     "metadata": {
      "needs_background": "light"
     },
     "output_type": "display_data"
    },
    {
     "data": {
      "image/png": "[encoded data removed]",
      "text/plain": [
       "<Figure size 432x288 with 1 Axes>"
      ]
     },
     "metadata": {
      "needs_background": "light"
     },
     "output_type": "display_data"
    },
    {
     "name": "stdout",
     "output_type": "stream",
     "text": [
      "Concentration reached after: 164 hours\n",
      "or : 6 days\n"
     ]
    }
   ],
   "source": [
    "it =0 \n",
    "while C[ind_Bru]<5:\n",
    "    it+=1\n",
    "    \n",
    "    # Advection \n",
    "    if v>0:\n",
    "        C[1:] -= v*dt/dx*(C[1:]-C[0:-1])        \n",
    "    elif v<0:\n",
    "        C[0:-1] -= v*dt/dx*(C[1:]-C[0:-1])      \n",
    "        \n",
    "    # Boundary conditions\n",
    "    C[0] = Cstart\n",
    "    C[-1] = Cend    \n",
    "        \n",
    "    # Diffusion \n",
    "    q = -D*np.diff(C)/dx    \n",
    "    C[1:-1] = C[1:-1] - dt*np.diff(q)/dx  \n",
    "    \n",
    "    # Source term\n",
    "    C[ind_vol] += C_rate*dt\n",
    "    \n",
    "\n",
    "    if it%100==0:        \n",
    "        plt.plot(x,C)\n",
    "        plt.scatter(x[ind_Bru],C[ind_Bru],c='r')\n",
    "        plt.title('Time is: ' + str(it*dt) + ' sec')    \n",
    "        plt.show()\n",
    "            \n",
    "print('Concentration reached after: ' + str(int(it*dt)) + ' hours')\n",
    "print('or : ' + str(int(it*dt/24)) + ' days')"
   ]
  }
 ],
 "metadata": {
  "kernelspec": {
   "display_name": "Python 3",
   "language": "python",
   "name": "python3"
  },
  "language_info": {
   "codemirror_mode": {
    "name": "ipython",
    "version": 3
   },
   "file_extension": ".py",
   "mimetype": "text/x-python",
   "name": "python",
   "nbconvert_exporter": "python",
   "pygments_lexer": "ipython3",
   "version": "3.8.4"
  }
 },
 "nbformat": 4,
 "nbformat_minor": 4
}
